{
 "cells": [
  {
   "cell_type": "markdown",
   "id": "bf518960",
   "metadata": {},
   "source": [
    "# Pandas"
   ]
  },
  {
   "cell_type": "code",
   "execution_count": 3,
   "id": "1a6730b6",
   "metadata": {},
   "outputs": [],
   "source": [
    "# Importar la biblioteca Pandas\n",
    "import pandas as pd\n",
    "\n",
    "# Crear un DataFrame con Pandas\n",
    "data_pandas = {\n",
    "    \"nombre\": [\"Ana\", \"Luis\", \"María\", \"Juan\", \"Lucía\"],\n",
    "    \"edad\": [23, 45, 34, 25, 30],\n",
    "    \"ciudad\": [\"Madrid\", \"Barcelona\", \"Valencia\", \"Sevilla\", \"Bilbao\"]\n",
    "}\n",
    "df_pandas = pd.DataFrame(data_pandas)"
   ]
  },
  {
   "cell_type": "code",
   "execution_count": 4,
   "id": "66ae0882",
   "metadata": {},
   "outputs": [
    {
     "data": {
      "text/plain": [
       "0      Ana\n",
       "1     Luis\n",
       "2    María\n",
       "3     Juan\n",
       "4    Lucía\n",
       "Name: nombre, dtype: object"
      ]
     },
     "execution_count": 4,
     "metadata": {},
     "output_type": "execute_result"
    }
   ],
   "source": [
    "# Seleccionar una columna\n",
    "df_pandas[\"nombre\"]"
   ]
  },
  {
   "cell_type": "code",
   "execution_count": 5,
   "id": "f3733bad",
   "metadata": {},
   "outputs": [
    {
     "data": {
      "text/html": [
       "<div>\n",
       "<style scoped>\n",
       "    .dataframe tbody tr th:only-of-type {\n",
       "        vertical-align: middle;\n",
       "    }\n",
       "\n",
       "    .dataframe tbody tr th {\n",
       "        vertical-align: top;\n",
       "    }\n",
       "\n",
       "    .dataframe thead th {\n",
       "        text-align: right;\n",
       "    }\n",
       "</style>\n",
       "<table border=\"1\" class=\"dataframe\">\n",
       "  <thead>\n",
       "    <tr style=\"text-align: right;\">\n",
       "      <th></th>\n",
       "      <th>nombre</th>\n",
       "      <th>edad</th>\n",
       "      <th>ciudad</th>\n",
       "    </tr>\n",
       "  </thead>\n",
       "  <tbody>\n",
       "    <tr>\n",
       "      <th>1</th>\n",
       "      <td>Luis</td>\n",
       "      <td>45</td>\n",
       "      <td>Barcelona</td>\n",
       "    </tr>\n",
       "    <tr>\n",
       "      <th>2</th>\n",
       "      <td>María</td>\n",
       "      <td>34</td>\n",
       "      <td>Valencia</td>\n",
       "    </tr>\n",
       "  </tbody>\n",
       "</table>\n",
       "</div>"
      ],
      "text/plain": [
       "  nombre  edad     ciudad\n",
       "1   Luis    45  Barcelona\n",
       "2  María    34   Valencia"
      ]
     },
     "execution_count": 5,
     "metadata": {},
     "output_type": "execute_result"
    }
   ],
   "source": [
    "# Filtrar por filas\n",
    "df_pandas[df_pandas[\"edad\"] > 30]"
   ]
  },
  {
   "cell_type": "code",
   "execution_count": 6,
   "id": "ebf02397",
   "metadata": {},
   "outputs": [
    {
     "data": {
      "text/plain": [
       "31.4"
      ]
     },
     "execution_count": 6,
     "metadata": {},
     "output_type": "execute_result"
    }
   ],
   "source": [
    "# Agregación de datos\n",
    "df_pandas[\"edad\"].mean()"
   ]
  },
  {
   "cell_type": "code",
   "execution_count": 7,
   "id": "bce048a5",
   "metadata": {},
   "outputs": [
    {
     "data": {
      "text/html": [
       "<div>\n",
       "<style scoped>\n",
       "    .dataframe tbody tr th:only-of-type {\n",
       "        vertical-align: middle;\n",
       "    }\n",
       "\n",
       "    .dataframe tbody tr th {\n",
       "        vertical-align: top;\n",
       "    }\n",
       "\n",
       "    .dataframe thead th {\n",
       "        text-align: right;\n",
       "    }\n",
       "</style>\n",
       "<table border=\"1\" class=\"dataframe\">\n",
       "  <thead>\n",
       "    <tr style=\"text-align: right;\">\n",
       "      <th></th>\n",
       "      <th>nombre</th>\n",
       "      <th>edad</th>\n",
       "      <th>ciudad</th>\n",
       "    </tr>\n",
       "  </thead>\n",
       "  <tbody>\n",
       "    <tr>\n",
       "      <th>0</th>\n",
       "      <td>Ana</td>\n",
       "      <td>23</td>\n",
       "      <td>Madrid</td>\n",
       "    </tr>\n",
       "    <tr>\n",
       "      <th>3</th>\n",
       "      <td>Juan</td>\n",
       "      <td>25</td>\n",
       "      <td>Sevilla</td>\n",
       "    </tr>\n",
       "    <tr>\n",
       "      <th>4</th>\n",
       "      <td>Lucía</td>\n",
       "      <td>30</td>\n",
       "      <td>Bilbao</td>\n",
       "    </tr>\n",
       "    <tr>\n",
       "      <th>2</th>\n",
       "      <td>María</td>\n",
       "      <td>34</td>\n",
       "      <td>Valencia</td>\n",
       "    </tr>\n",
       "    <tr>\n",
       "      <th>1</th>\n",
       "      <td>Luis</td>\n",
       "      <td>45</td>\n",
       "      <td>Barcelona</td>\n",
       "    </tr>\n",
       "  </tbody>\n",
       "</table>\n",
       "</div>"
      ],
      "text/plain": [
       "  nombre  edad     ciudad\n",
       "0    Ana    23     Madrid\n",
       "3   Juan    25    Sevilla\n",
       "4  Lucía    30     Bilbao\n",
       "2  María    34   Valencia\n",
       "1   Luis    45  Barcelona"
      ]
     },
     "execution_count": 7,
     "metadata": {},
     "output_type": "execute_result"
    }
   ],
   "source": [
    "# Ordenacion\n",
    "df_pandas.sort_values(by=\"edad\")"
   ]
  },
  {
   "cell_type": "code",
   "execution_count": 8,
   "id": "ce5c6027",
   "metadata": {},
   "outputs": [
    {
     "data": {
      "text/html": [
       "<div>\n",
       "<style scoped>\n",
       "    .dataframe tbody tr th:only-of-type {\n",
       "        vertical-align: middle;\n",
       "    }\n",
       "\n",
       "    .dataframe tbody tr th {\n",
       "        vertical-align: top;\n",
       "    }\n",
       "\n",
       "    .dataframe thead th {\n",
       "        text-align: right;\n",
       "    }\n",
       "</style>\n",
       "<table border=\"1\" class=\"dataframe\">\n",
       "  <thead>\n",
       "    <tr style=\"text-align: right;\">\n",
       "      <th></th>\n",
       "      <th>nombre</th>\n",
       "      <th>edad</th>\n",
       "      <th>ciudad</th>\n",
       "      <th>salario</th>\n",
       "    </tr>\n",
       "  </thead>\n",
       "  <tbody>\n",
       "    <tr>\n",
       "      <th>0</th>\n",
       "      <td>Ana</td>\n",
       "      <td>23</td>\n",
       "      <td>Madrid</td>\n",
       "      <td>50000</td>\n",
       "    </tr>\n",
       "    <tr>\n",
       "      <th>1</th>\n",
       "      <td>Luis</td>\n",
       "      <td>45</td>\n",
       "      <td>Barcelona</td>\n",
       "      <td>60000</td>\n",
       "    </tr>\n",
       "    <tr>\n",
       "      <th>2</th>\n",
       "      <td>María</td>\n",
       "      <td>34</td>\n",
       "      <td>Valencia</td>\n",
       "      <td>70000</td>\n",
       "    </tr>\n",
       "    <tr>\n",
       "      <th>3</th>\n",
       "      <td>Juan</td>\n",
       "      <td>25</td>\n",
       "      <td>Sevilla</td>\n",
       "      <td>80000</td>\n",
       "    </tr>\n",
       "    <tr>\n",
       "      <th>4</th>\n",
       "      <td>Lucía</td>\n",
       "      <td>30</td>\n",
       "      <td>Bilbao</td>\n",
       "      <td>90000</td>\n",
       "    </tr>\n",
       "  </tbody>\n",
       "</table>\n",
       "</div>"
      ],
      "text/plain": [
       "  nombre  edad     ciudad  salario\n",
       "0    Ana    23     Madrid    50000\n",
       "1   Luis    45  Barcelona    60000\n",
       "2  María    34   Valencia    70000\n",
       "3   Juan    25    Sevilla    80000\n",
       "4  Lucía    30     Bilbao    90000"
      ]
     },
     "execution_count": 8,
     "metadata": {},
     "output_type": "execute_result"
    }
   ],
   "source": [
    "# Agregar una nueva columna\n",
    "df_pandas[\"salario\"] = [50000, 60000, 70000, 80000, 90000]\n",
    "df_pandas"
   ]
  },
  {
   "cell_type": "code",
   "execution_count": 9,
   "id": "d829cd8b",
   "metadata": {},
   "outputs": [
    {
     "name": "stdout",
     "output_type": "stream",
     "text": [
      "ciudad\n",
      "Barcelona    45.0\n",
      "Bilbao       30.0\n",
      "Madrid       23.0\n",
      "Sevilla      25.0\n",
      "Valencia     34.0\n",
      "Name: edad, dtype: float64\n"
     ]
    }
   ],
   "source": [
    "# Agrupar por ciudad y calcular la media de edad\n",
    "print(df_pandas.groupby(\"ciudad\")[\"edad\"].mean())"
   ]
  },
  {
   "cell_type": "markdown",
   "id": "a16fdfb3",
   "metadata": {},
   "source": [
    "# Polars"
   ]
  },
  {
   "cell_type": "code",
   "execution_count": 10,
   "id": "41a7c421",
   "metadata": {},
   "outputs": [],
   "source": [
    "# Importar la biblioteca Polars\n",
    "import polars as pl\n",
    "\n",
    "# Crear un DataFrame con Polars\n",
    "data_polars = {\n",
    "    \"nombre\": [\"Ana\", \"Luis\", \"María\", \"Juan\", \"Lucía\"],\n",
    "    \"edad\": [23, 45, 34, 25, 30],\n",
    "    \"ciudad\": [\"Madrid\", \"Barcelona\", \"Valencia\", \"Sevilla\", \"Bilbao\"]\n",
    "}\n",
    "df_polars = pl.DataFrame(data_polars)"
   ]
  },
  {
   "cell_type": "code",
   "execution_count": 11,
   "id": "db40667e",
   "metadata": {},
   "outputs": [
    {
     "data": {
      "text/html": [
       "<div><style>\n",
       ".dataframe > thead > tr,\n",
       ".dataframe > tbody > tr {\n",
       "  text-align: right;\n",
       "  white-space: pre-wrap;\n",
       "}\n",
       "</style>\n",
       "<small>shape: (5, 1)</small><table border=\"1\" class=\"dataframe\"><thead><tr><th>nombre</th></tr><tr><td>str</td></tr></thead><tbody><tr><td>&quot;Ana&quot;</td></tr><tr><td>&quot;Luis&quot;</td></tr><tr><td>&quot;María&quot;</td></tr><tr><td>&quot;Juan&quot;</td></tr><tr><td>&quot;Lucía&quot;</td></tr></tbody></table></div>"
      ],
      "text/plain": [
       "shape: (5, 1)\n",
       "┌────────┐\n",
       "│ nombre │\n",
       "│ ---    │\n",
       "│ str    │\n",
       "╞════════╡\n",
       "│ Ana    │\n",
       "│ Luis   │\n",
       "│ María  │\n",
       "│ Juan   │\n",
       "│ Lucía  │\n",
       "└────────┘"
      ]
     },
     "execution_count": 11,
     "metadata": {},
     "output_type": "execute_result"
    }
   ],
   "source": [
    "# Seleccionar una columna\n",
    "df_polars.select(\"nombre\")"
   ]
  },
  {
   "cell_type": "code",
   "execution_count": 12,
   "id": "35e657b7-7544-40e1-a3a6-5066dfa7307e",
   "metadata": {},
   "outputs": [
    {
     "data": {
      "text/html": [
       "<div><style>\n",
       ".dataframe > thead > tr,\n",
       ".dataframe > tbody > tr {\n",
       "  text-align: right;\n",
       "  white-space: pre-wrap;\n",
       "}\n",
       "</style>\n",
       "<small>shape: (2, 3)</small><table border=\"1\" class=\"dataframe\"><thead><tr><th>nombre</th><th>edad</th><th>ciudad</th></tr><tr><td>str</td><td>i64</td><td>str</td></tr></thead><tbody><tr><td>&quot;Luis&quot;</td><td>45</td><td>&quot;Barcelona&quot;</td></tr><tr><td>&quot;María&quot;</td><td>34</td><td>&quot;Valencia&quot;</td></tr></tbody></table></div>"
      ],
      "text/plain": [
       "shape: (2, 3)\n",
       "┌────────┬──────┬───────────┐\n",
       "│ nombre ┆ edad ┆ ciudad    │\n",
       "│ ---    ┆ ---  ┆ ---       │\n",
       "│ str    ┆ i64  ┆ str       │\n",
       "╞════════╪══════╪═══════════╡\n",
       "│ Luis   ┆ 45   ┆ Barcelona │\n",
       "│ María  ┆ 34   ┆ Valencia  │\n",
       "└────────┴──────┴───────────┘"
      ]
     },
     "execution_count": 12,
     "metadata": {},
     "output_type": "execute_result"
    }
   ],
   "source": [
    "# Filtrar filas\n",
    "df_polars.filter(pl.col(\"edad\") > 30)"
   ]
  },
  {
   "cell_type": "code",
   "execution_count": 13,
   "id": "642d20b7",
   "metadata": {},
   "outputs": [
    {
     "data": {
      "text/html": [
       "<div><style>\n",
       ".dataframe > thead > tr,\n",
       ".dataframe > tbody > tr {\n",
       "  text-align: right;\n",
       "  white-space: pre-wrap;\n",
       "}\n",
       "</style>\n",
       "<small>shape: (1, 1)</small><table border=\"1\" class=\"dataframe\"><thead><tr><th>edad</th></tr><tr><td>f64</td></tr></thead><tbody><tr><td>31.4</td></tr></tbody></table></div>"
      ],
      "text/plain": [
       "shape: (1, 1)\n",
       "┌──────┐\n",
       "│ edad │\n",
       "│ ---  │\n",
       "│ f64  │\n",
       "╞══════╡\n",
       "│ 31.4 │\n",
       "└──────┘"
      ]
     },
     "execution_count": 13,
     "metadata": {},
     "output_type": "execute_result"
    }
   ],
   "source": [
    "# Agregar datos\n",
    "df_polars.select(pl.col(\"edad\").mean())"
   ]
  },
  {
   "cell_type": "code",
   "execution_count": 14,
   "id": "cfe12337",
   "metadata": {},
   "outputs": [
    {
     "data": {
      "text/html": [
       "<div><style>\n",
       ".dataframe > thead > tr,\n",
       ".dataframe > tbody > tr {\n",
       "  text-align: right;\n",
       "  white-space: pre-wrap;\n",
       "}\n",
       "</style>\n",
       "<small>shape: (5, 3)</small><table border=\"1\" class=\"dataframe\"><thead><tr><th>nombre</th><th>edad</th><th>ciudad</th></tr><tr><td>str</td><td>i64</td><td>str</td></tr></thead><tbody><tr><td>&quot;Ana&quot;</td><td>23</td><td>&quot;Madrid&quot;</td></tr><tr><td>&quot;Juan&quot;</td><td>25</td><td>&quot;Sevilla&quot;</td></tr><tr><td>&quot;Lucía&quot;</td><td>30</td><td>&quot;Bilbao&quot;</td></tr><tr><td>&quot;María&quot;</td><td>34</td><td>&quot;Valencia&quot;</td></tr><tr><td>&quot;Luis&quot;</td><td>45</td><td>&quot;Barcelona&quot;</td></tr></tbody></table></div>"
      ],
      "text/plain": [
       "shape: (5, 3)\n",
       "┌────────┬──────┬───────────┐\n",
       "│ nombre ┆ edad ┆ ciudad    │\n",
       "│ ---    ┆ ---  ┆ ---       │\n",
       "│ str    ┆ i64  ┆ str       │\n",
       "╞════════╪══════╪═══════════╡\n",
       "│ Ana    ┆ 23   ┆ Madrid    │\n",
       "│ Juan   ┆ 25   ┆ Sevilla   │\n",
       "│ Lucía  ┆ 30   ┆ Bilbao    │\n",
       "│ María  ┆ 34   ┆ Valencia  │\n",
       "│ Luis   ┆ 45   ┆ Barcelona │\n",
       "└────────┴──────┴───────────┘"
      ]
     },
     "execution_count": 14,
     "metadata": {},
     "output_type": "execute_result"
    }
   ],
   "source": [
    "# Ordenar datos\n",
    "df_polars.sort(\"edad\")"
   ]
  },
  {
   "cell_type": "code",
   "execution_count": 16,
   "id": "a2ead3c9",
   "metadata": {},
   "outputs": [],
   "source": [
    "# Agregar una nueva columna\n",
    "df_polars = df_polars.with_columns(pl.Series(\"salario\", [50000, 60000, 70000, 80000, 90000]))\n"
   ]
  },
  {
   "cell_type": "code",
   "execution_count": 17,
   "id": "5cc5a511",
   "metadata": {},
   "outputs": [
    {
     "name": "stderr",
     "output_type": "stream",
     "text": [
      "/tmp/ipykernel_916311/3800924131.py:2: DeprecationWarning: `groupby` is deprecated. It has been renamed to `group_by`.\n",
      "  df_polars.groupby(\"ciudad\").agg(pl.col(\"edad\").mean())\n"
     ]
    },
    {
     "data": {
      "text/html": [
       "<div><style>\n",
       ".dataframe > thead > tr,\n",
       ".dataframe > tbody > tr {\n",
       "  text-align: right;\n",
       "  white-space: pre-wrap;\n",
       "}\n",
       "</style>\n",
       "<small>shape: (5, 2)</small><table border=\"1\" class=\"dataframe\"><thead><tr><th>ciudad</th><th>edad</th></tr><tr><td>str</td><td>f64</td></tr></thead><tbody><tr><td>&quot;Madrid&quot;</td><td>23.0</td></tr><tr><td>&quot;Barcelona&quot;</td><td>45.0</td></tr><tr><td>&quot;Bilbao&quot;</td><td>30.0</td></tr><tr><td>&quot;Sevilla&quot;</td><td>25.0</td></tr><tr><td>&quot;Valencia&quot;</td><td>34.0</td></tr></tbody></table></div>"
      ],
      "text/plain": [
       "shape: (5, 2)\n",
       "┌───────────┬──────┐\n",
       "│ ciudad    ┆ edad │\n",
       "│ ---       ┆ ---  │\n",
       "│ str       ┆ f64  │\n",
       "╞═══════════╪══════╡\n",
       "│ Madrid    ┆ 23.0 │\n",
       "│ Barcelona ┆ 45.0 │\n",
       "│ Bilbao    ┆ 30.0 │\n",
       "│ Sevilla   ┆ 25.0 │\n",
       "│ Valencia  ┆ 34.0 │\n",
       "└───────────┴──────┘"
      ]
     },
     "execution_count": 17,
     "metadata": {},
     "output_type": "execute_result"
    }
   ],
   "source": [
    "# Agrupar por ciudad y calcular la media de edad\n",
    "df_polars.groupby(\"ciudad\").agg(pl.col(\"edad\").mean())"
   ]
  },
  {
   "cell_type": "code",
   "execution_count": null,
   "id": "02bada2b",
   "metadata": {},
   "outputs": [],
   "source": []
  }
 ],
 "metadata": {
  "kernelspec": {
   "display_name": "Python 3 (ipykernel)",
   "language": "python",
   "name": "python3"
  },
  "language_info": {
   "codemirror_mode": {
    "name": "ipython",
    "version": 3
   },
   "file_extension": ".py",
   "mimetype": "text/x-python",
   "name": "python",
   "nbconvert_exporter": "python",
   "pygments_lexer": "ipython3",
   "version": "3.9.19"
  }
 },
 "nbformat": 4,
 "nbformat_minor": 5
}
