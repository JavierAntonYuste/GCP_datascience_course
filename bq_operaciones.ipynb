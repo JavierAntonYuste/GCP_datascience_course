{
 "cells": [
  {
   "cell_type": "code",
   "execution_count": null,
   "id": "e72db673-3829-4c37-8911-62bf9d3dd1f3",
   "metadata": {},
   "outputs": [
    {
     "name": "stdout",
     "output_type": "stream",
     "text": [
      "Please visit this URL to authorize this application: https://accounts.google.com/o/oauth2/auth?response_type=code&client_id=725825577420-unm2gnkiprugilg743tkbig250f4sfsj.apps.googleusercontent.com&redirect_uri=http%3A%2F%2Flocalhost%3A8080%2F&scope=https%3A%2F%2Fwww.googleapis.com%2Fauth%2Fbigquery&state=HjpBDH9njjy6DVJQKZQecSQ7HPjUS0&prompt=consent&access_type=offline\n"
     ]
    }
   ],
   "source": [
    "# Importar las bibliotecas\n",
    "import pandas as pd\n",
    "import polars as pl\n",
    "from google.cloud import bigquery\n",
    "\n",
    "# Configurar el cliente de BigQuery\n",
    "client = bigquery.Client()\n",
    "\n",
    "# Definir la consulta SQL\n",
    "query = \"\"\"\n",
    "SELECT word, word_count\n",
    "FROM `bigquery-public-data.samples.shakespeare`\n",
    "WHERE word_count > 100\n",
    "ORDER BY word_count DESC\n",
    "LIMIT 10\n",
    "\"\"\"\n",
    "\n",
    "# Ejecutar la consulta con Pandas\n",
    "df_pandas = pd.read_gbq(query, project_id='my_project_id')\n",
    "print(\"Resultados de la consulta con Pandas:\")\n",
    "print(df_pandas)\n",
    "\n",
    "# Ejecutar la consulta con Polars\n",
    "job = client.query(query)\n",
    "df_polars = pl.DataFrame(job.result().to_dataframe())\n",
    "print(\"\\nResultados de la consulta con Polars:\")\n",
    "print(df_polars)\n",
    "\n",
    "# Manipular los resultados con Pandas\n",
    "print(\"\\nFiltrar palabras con más de 150 ocurrencias con Pandas:\")\n",
    "print(df_pandas[df_pandas[\"word_count\"] > 150])\n",
    "\n",
    "# Manipular los resultados con Polars\n",
    "print(\"\\nFiltrar palabras con más de 150 ocurrencias con Polars:\")\n",
    "print(df_polars.filter(pl.col(\"word_count\") > 150))\n"
   ]
  },
  {
   "cell_type": "code",
   "execution_count": 8,
   "id": "450493f8-23cd-459c-a53e-0d48b8be26e4",
   "metadata": {},
   "outputs": [
    {
     "name": "stdout",
     "output_type": "stream",
     "text": [
      "Defaulting to user installation because normal site-packages is not writeable\n",
      "Collecting pandas-gbq\n",
      "  Downloading pandas_gbq-0.23.1-py2.py3-none-any.whl.metadata (3.4 kB)\n",
      "Requirement already satisfied: setuptools in /home/sbd/.local/lib/python3.10/site-packages (from pandas-gbq) (69.0.3)\n",
      "Collecting db-dtypes<2.0.0,>=1.0.4 (from pandas-gbq)\n",
      "  Downloading db_dtypes-1.2.0-py2.py3-none-any.whl.metadata (3.0 kB)\n",
      "Requirement already satisfied: numpy>=1.16.6 in /home/sbd/.local/lib/python3.10/site-packages (from pandas-gbq) (1.26.4)\n",
      "Requirement already satisfied: pandas>=1.1.4 in /home/sbd/.local/lib/python3.10/site-packages (from pandas-gbq) (1.5.3)\n",
      "Requirement already satisfied: pyarrow>=3.0.0 in /home/sbd/.local/lib/python3.10/site-packages (from pandas-gbq) (14.0.2)\n",
      "Collecting pydata-google-auth>=1.5.0 (from pandas-gbq)\n",
      "  Downloading pydata_google_auth-1.8.2-py2.py3-none-any.whl.metadata (3.2 kB)\n",
      "Requirement already satisfied: google-api-core<3.0.0dev,>=2.10.2 in /home/sbd/.local/lib/python3.10/site-packages (from pandas-gbq) (2.15.0)\n",
      "Requirement already satisfied: google-auth>=2.13.0 in /home/sbd/.local/lib/python3.10/site-packages (from pandas-gbq) (2.27.0)\n",
      "Requirement already satisfied: google-auth-oauthlib>=0.7.0 in /home/sbd/.local/lib/python3.10/site-packages (from pandas-gbq) (1.2.0)\n",
      "Requirement already satisfied: google-cloud-bigquery<4.0.0dev,>=3.3.5 in /home/sbd/.local/lib/python3.10/site-packages (from pandas-gbq) (3.17.0)\n",
      "Requirement already satisfied: packaging>=20.0.0 in /home/sbd/.local/lib/python3.10/site-packages (from pandas-gbq) (23.2)\n",
      "Requirement already satisfied: googleapis-common-protos<2.0.dev0,>=1.56.2 in /home/sbd/.local/lib/python3.10/site-packages (from google-api-core<3.0.0dev,>=2.10.2->pandas-gbq) (1.62.0)\n",
      "Requirement already satisfied: protobuf!=3.20.0,!=3.20.1,!=4.21.0,!=4.21.1,!=4.21.2,!=4.21.3,!=4.21.4,!=4.21.5,<5.0.0.dev0,>=3.19.5 in /home/sbd/.local/lib/python3.10/site-packages (from google-api-core<3.0.0dev,>=2.10.2->pandas-gbq) (3.20.3)\n",
      "Requirement already satisfied: requests<3.0.0.dev0,>=2.18.0 in /home/sbd/.local/lib/python3.10/site-packages (from google-api-core<3.0.0dev,>=2.10.2->pandas-gbq) (2.31.0)\n",
      "Requirement already satisfied: cachetools<6.0,>=2.0.0 in /home/sbd/.local/lib/python3.10/site-packages (from google-auth>=2.13.0->pandas-gbq) (5.3.2)\n",
      "Requirement already satisfied: pyasn1-modules>=0.2.1 in /home/sbd/.local/lib/python3.10/site-packages (from google-auth>=2.13.0->pandas-gbq) (0.3.0)\n",
      "Requirement already satisfied: rsa<5,>=3.1.4 in /home/sbd/.local/lib/python3.10/site-packages (from google-auth>=2.13.0->pandas-gbq) (4.9)\n",
      "Requirement already satisfied: requests-oauthlib>=0.7.0 in /home/sbd/.local/lib/python3.10/site-packages (from google-auth-oauthlib>=0.7.0->pandas-gbq) (1.3.1)\n",
      "Requirement already satisfied: google-cloud-core<3.0.0dev,>=1.6.0 in /home/sbd/.local/lib/python3.10/site-packages (from google-cloud-bigquery<4.0.0dev,>=3.3.5->pandas-gbq) (2.4.1)\n",
      "Requirement already satisfied: google-resumable-media<3.0dev,>=0.6.0 in /home/sbd/.local/lib/python3.10/site-packages (from google-cloud-bigquery<4.0.0dev,>=3.3.5->pandas-gbq) (2.7.0)\n",
      "Requirement already satisfied: python-dateutil<3.0dev,>=2.7.2 in /home/sbd/.local/lib/python3.10/site-packages (from google-cloud-bigquery<4.0.0dev,>=3.3.5->pandas-gbq) (2.9.0)\n",
      "Requirement already satisfied: pytz>=2020.1 in /home/sbd/.local/lib/python3.10/site-packages (from pandas>=1.1.4->pandas-gbq) (2024.1)\n",
      "Requirement already satisfied: google-crc32c<2.0dev,>=1.0 in /home/sbd/.local/lib/python3.10/site-packages (from google-resumable-media<3.0dev,>=0.6.0->google-cloud-bigquery<4.0.0dev,>=3.3.5->pandas-gbq) (1.5.0)\n",
      "Requirement already satisfied: pyasn1<0.6.0,>=0.4.6 in /home/sbd/.local/lib/python3.10/site-packages (from pyasn1-modules>=0.2.1->google-auth>=2.13.0->pandas-gbq) (0.5.1)\n",
      "Requirement already satisfied: six>=1.5 in /usr/lib/python3/dist-packages (from python-dateutil<3.0dev,>=2.7.2->google-cloud-bigquery<4.0.0dev,>=3.3.5->pandas-gbq) (1.16.0)\n",
      "Requirement already satisfied: charset-normalizer<4,>=2 in /home/sbd/.local/lib/python3.10/site-packages (from requests<3.0.0.dev0,>=2.18.0->google-api-core<3.0.0dev,>=2.10.2->pandas-gbq) (2.1.0)\n",
      "Requirement already satisfied: idna<4,>=2.5 in /home/sbd/.local/lib/python3.10/site-packages (from requests<3.0.0.dev0,>=2.18.0->google-api-core<3.0.0dev,>=2.10.2->pandas-gbq) (3.6)\n",
      "Requirement already satisfied: urllib3<3,>=1.21.1 in /home/sbd/.local/lib/python3.10/site-packages (from requests<3.0.0.dev0,>=2.18.0->google-api-core<3.0.0dev,>=2.10.2->pandas-gbq) (1.25.11)\n",
      "Requirement already satisfied: certifi>=2017.4.17 in /home/sbd/.local/lib/python3.10/site-packages (from requests<3.0.0.dev0,>=2.18.0->google-api-core<3.0.0dev,>=2.10.2->pandas-gbq) (2023.11.17)\n",
      "Requirement already satisfied: oauthlib>=3.0.0 in /home/sbd/.local/lib/python3.10/site-packages (from requests-oauthlib>=0.7.0->google-auth-oauthlib>=0.7.0->pandas-gbq) (3.2.2)\n",
      "Downloading pandas_gbq-0.23.1-py2.py3-none-any.whl (28 kB)\n",
      "Downloading db_dtypes-1.2.0-py2.py3-none-any.whl (14 kB)\n",
      "Downloading pydata_google_auth-1.8.2-py2.py3-none-any.whl (15 kB)\n",
      "Installing collected packages: db-dtypes, pydata-google-auth, pandas-gbq\n",
      "Successfully installed db-dtypes-1.2.0 pandas-gbq-0.23.1 pydata-google-auth-1.8.2\n"
     ]
    }
   ],
   "source": [
    "!python -m pip install pandas-gbq"
   ]
  },
  {
   "cell_type": "code",
   "execution_count": 7,
   "id": "6b910e9d-ccc4-42bc-afe4-f78a8bc288ed",
   "metadata": {},
   "outputs": [],
   "source": [
    "!pyenv global system"
   ]
  },
  {
   "cell_type": "code",
   "execution_count": null,
   "id": "2f561f04-2181-47ba-97f6-661a231fa099",
   "metadata": {},
   "outputs": [],
   "source": []
  }
 ],
 "metadata": {
  "kernelspec": {
   "display_name": "Python 3 (ipykernel)",
   "language": "python",
   "name": "python3"
  },
  "language_info": {
   "codemirror_mode": {
    "name": "ipython",
    "version": 3
   },
   "file_extension": ".py",
   "mimetype": "text/x-python",
   "name": "python",
   "nbconvert_exporter": "python",
   "pygments_lexer": "ipython3",
   "version": "3.10.12"
  }
 },
 "nbformat": 4,
 "nbformat_minor": 5
}
